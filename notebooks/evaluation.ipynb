{
 "cells": [
  {
   "cell_type": "code",
   "execution_count": 17,
   "metadata": {},
   "outputs": [
    {
     "name": "stderr",
     "output_type": "stream",
     "text": [
      "d:\\Repositories\\multilingual_mice\\.env\\lib\\site-packages\\huggingface_hub\\file_download.py:795: FutureWarning: `resume_download` is deprecated and will be removed in version 1.0.0. Downloads always resume when possible. If you want to force a new download, use `force_download=True`.\n",
      "  warnings.warn(\n",
      "d:\\Repositories\\multilingual_mice\\.env\\lib\\site-packages\\transformers\\convert_slow_tokenizer.py:560: UserWarning: The sentencepiece tokenizer that you are converting to a fast tokenizer uses the byte fallback option which is not implemented in the fast tokenizers. In practice this means that the fast version of the tokenizer can produce unknown tokens whereas the sentencepiece version would have converted these unknown tokens into a sequence of byte tokens matching the original piece of text.\n",
      "  warnings.warn(\n"
     ]
    }
   ],
   "source": [
    "import pandas as pd\n",
    "import sys\n",
    "sys.path.append(\"..\")\n",
    "from mmice.utils import html_highlight_diffs\n",
    "from mmice.edit_finder import EditEvaluator\n",
    "from mmice.maskers.random_masker import RandomMasker\n",
    "from transformers import MT5TokenizerFast\n",
    "from IPython.display import display, HTML\n",
    "import numpy as np\n",
    "import spacy\n",
    "from tqdm import tqdm\n",
    "\n",
    "nlp = spacy.load(\"en_core_web_sm\")\n",
    "\n",
    "eval = EditEvaluator(fluency_model_name=\"google/umt5-small\",\n",
    "                     fluency_masker=RandomMasker(None, MT5TokenizerFast.from_pretrained(\"google/mt5-small\", model_max_length=700, legacy=False), 700))"
   ]
  },
  {
   "cell_type": "code",
   "execution_count": 18,
   "metadata": {},
   "outputs": [],
   "source": [
    "FIX_FLAG = False\n",
    "LOAD_BEST = True\n",
    "TASK = \"imdb\"\n",
    "STAGE2EXP = \"mice-test-01-editor-imdb\"\n",
    "SAVE_PATH = f\"../results/{TASK}/edits/{STAGE2EXP}/\"\n",
    "EDIT_PATH = SAVE_PATH + \"edits.csv\""
   ]
  },
  {
   "cell_type": "code",
   "execution_count": 4,
   "metadata": {},
   "outputs": [],
   "source": [
    "def read_edits(path):\n",
    "    edits = pd.read_csv(path, sep=\"\\t\", lineterminator=\"\\n\").dropna()\n",
    "    edits = edits[edits['data_idx'] != 'data_idx']\n",
    "    if edits['new_pred'].dtype == np.dtype('float64'):\n",
    "        edits['new_pred'] = edits.apply(lambda row: str(int(row['new_pred']) if not np.isnan(row['new_pred']) else \"\"), axis=1)\n",
    "        edits['orig_pred'] = edits.apply(lambda row: str(int(row['orig_pred']) if not np.isnan(row['orig_pred']) else \"\"), axis=1)\n",
    "        edits['contrast_pred'] = edits.apply(lambda row: str(int(row['contrast_pred']) if not np.isnan(row['contrast_pred']) else \"\"), axis=1)\n",
    "    else:\n",
    "        edits['new_pred'].fillna(value=\"\", inplace=True)\n",
    "        edits['orig_pred'].fillna(value=\"\", inplace=True)\n",
    "        edits['contrast_pred'].fillna(value=\"\", inplace=True)\n",
    "    return edits"
   ]
  },
  {
   "cell_type": "code",
   "execution_count": 5,
   "metadata": {},
   "outputs": [],
   "source": [
    "def get_best_edits(edits):\n",
    "    \"\"\" MiCE writes all edits that are found in Stage 2, \n",
    "    but we only want to evaluate the smallest per input. \n",
    "    Calling get_sorted_e() \"\"\"\n",
    "    edits['sorted_idx'] = pd.to_numeric(edits['sorted_idx'])\n",
    "    edits['minimality'] = pd.to_numeric(edits['minimality'])\n",
    "    edits['data_idx'] = pd.to_numeric(edits['data_idx'])\n",
    "    edits['duration'] = pd.to_numeric(edits['duration'])\n",
    "    return edits[edits['sorted_idx'] == 0]\n",
    "    \n",
    "def evaluate_edits(edits):\n",
    "    temp = edits[edits['sorted_idx'] == 0]\n",
    "    minim = temp['minimality'].mean()\n",
    "    flipped = temp[temp['new_pred'].astype(str)==temp['contrast_pred'].astype(str)]\n",
    "    nunique = temp['data_idx'].nunique()\n",
    "    \n",
    "    flip_rate = len(flipped)/nunique\n",
    "    duration = temp['duration'].mean()\n",
    "    metrics = {\n",
    "        \"num_total\": nunique,\n",
    "        \"num_flipped\": len(flipped),\n",
    "        \"flip_rate\": flip_rate,\n",
    "        \"minimality\": minim,\n",
    "        #\"fluency\": temp['fluency'].mean(),\n",
    "        \"duration\": duration,\n",
    "    }\n",
    "    for k, v in metrics.items():\n",
    "        print(f\"{k}: \\t{round(v, 3)}\")\n",
    "    return metrics"
   ]
  },
  {
   "cell_type": "code",
   "execution_count": 6,
   "metadata": {},
   "outputs": [],
   "source": [
    "def display_edits(row):\n",
    "    html_original, html_edited = html_highlight_diffs(row['orig_editable_seg'], row['edited_editable_seg'], nlp)\n",
    "    minim = round(row['minimality'], 3)\n",
    "    print(f\"MINIMALITY: \\t{minim}\")\n",
    "    print(\"\")\n",
    "    display(HTML(html_original))\n",
    "    display(HTML(html_edited))\n",
    "\n",
    "def display_classif_results(rows):\n",
    "    for _, row in rows.iterrows():\n",
    "        orig_contrast_prob_pred = round(row['orig_contrast_prob_pred'], 3)\n",
    "        new_contrast_prob_pred = round(row['new_contrast_prob_pred'], 3)\n",
    "        print(\"-----------------------\")\n",
    "        print(f\"ORIG LABEL: \\t{row['orig_pred']}\")\n",
    "        print(f\"CONTR LABEL: \\t{row['contrast_pred']} (Orig Pred Prob: {orig_contrast_prob_pred})\")\n",
    "        print(f\"NEW LABEL: \\t{row['new_pred']} (New Pred Prob: {new_contrast_prob_pred})\")\n",
    "        print(\"\")\n",
    "        display_edits(row)\n",
    "\n",
    "def display_race_results(rows):\n",
    "    for _, row in rows.iterrows():\n",
    "        orig_contrast_prob_pred = round(row['orig_contrast_prob_pred'], 3)\n",
    "        new_contrast_prob_pred = round(row['new_contrast_prob_pred'], 3)\n",
    "        orig_input = eval(row['orig_input'])\n",
    "        options = orig_input['options']\n",
    "        print(\"-----------------------\")\n",
    "        print(f\"QUESTION: {orig_input['question']}\")\n",
    "        print(\"\\nOPTIONS:\")\n",
    "        for opt_idx, opt in enumerate(options):\n",
    "            print(f\"  ({opt_idx}) {opt}\")\n",
    "        print(f\"\\nORIG LABEL: \\t{row['orig_pred']}\")\n",
    "        print(f\"CONTR LABEL: \\t{row['contrast_pred']} (Orig Pred Prob: {orig_contrast_prob_pred})\")\n",
    "        print(f\"NEW LABEL: \\t{row['new_pred']} (New Pred Prob: {new_contrast_prob_pred})\")\n",
    "        print(\"\")\n",
    "        display_edits(row)"
   ]
  },
  {
   "cell_type": "code",
   "execution_count": 6,
   "metadata": {},
   "outputs": [],
   "source": [
    "def fix_windows_corruption(file_path):\n",
    "    new_file_path = file_path.split(\"/\")\n",
    "    new_file_path[-1] = 'fixed_edits.csv'\n",
    "    new_file_path = \"/\".join(new_file_path)\n",
    "    with open(file_path, 'r') as f, open(new_file_path, 'w+') as new_file:\n",
    "        i = 0\n",
    "        for line in f:\n",
    "            i += 1\n",
    "            line_ = line.replace(\";\", \"\").strip()\n",
    "            if len(line_) == 0:\n",
    "                continue\n",
    "            if line_[0] == \"\\\"\":\n",
    "                line_ = line_[1:]\n",
    "            if line_[-1] == \"\\\"\":\n",
    "                line_ = line_[:-1] \n",
    "            new_file.write(line_ + \"\\n\")\n",
    "    return new_file_path\n",
    "\n",
    "\n",
    "if FIX_FLAG:\n",
    "    EDIT_PATH = fix_windows_corruption(EDIT_PATH)           "
   ]
  },
  {
   "cell_type": "code",
   "execution_count": 19,
   "metadata": {},
   "outputs": [],
   "source": [
    "edits = read_edits(EDIT_PATH) #if not LOAD_BEST else read_edits(SAVE_PATH + \"best_edits.csv\")\n",
    "edits = get_best_edits(edits)"
   ]
  },
  {
   "cell_type": "code",
   "execution_count": null,
   "metadata": {},
   "outputs": [],
   "source": []
  },
  {
   "cell_type": "code",
   "execution_count": 20,
   "metadata": {},
   "outputs": [
    {
     "data": {
      "text/html": [
       "<div>\n",
       "<style scoped>\n",
       "    .dataframe tbody tr th:only-of-type {\n",
       "        vertical-align: middle;\n",
       "    }\n",
       "\n",
       "    .dataframe tbody tr th {\n",
       "        vertical-align: top;\n",
       "    }\n",
       "\n",
       "    .dataframe thead th {\n",
       "        text-align: right;\n",
       "    }\n",
       "</style>\n",
       "<table border=\"1\" class=\"dataframe\">\n",
       "  <thead>\n",
       "    <tr style=\"text-align: right;\">\n",
       "      <th></th>\n",
       "      <th>data_idx</th>\n",
       "      <th>sorted_idx</th>\n",
       "      <th>orig_pred</th>\n",
       "      <th>new_pred</th>\n",
       "      <th>contrast_pred</th>\n",
       "      <th>orig_contrast_prob_pred</th>\n",
       "      <th>new_contrast_prob_pred</th>\n",
       "      <th>orig_input</th>\n",
       "      <th>edited_input</th>\n",
       "      <th>orig_editable_seg</th>\n",
       "      <th>edited_editable_seg</th>\n",
       "      <th>minimality</th>\n",
       "      <th>num_edit_rounds</th>\n",
       "      <th>mask_frac</th>\n",
       "      <th>duration</th>\n",
       "      <th>error\\r\\r</th>\n",
       "    </tr>\n",
       "  </thead>\n",
       "  <tbody>\n",
       "    <tr>\n",
       "      <th>6</th>\n",
       "      <td>2835</td>\n",
       "      <td>0</td>\n",
       "      <td>POSITIVE</td>\n",
       "      <td>NEGATIVE</td>\n",
       "      <td>NEGATIVE</td>\n",
       "      <td>0.004004</td>\n",
       "      <td>0.743803</td>\n",
       "      <td>dogtown and z-boys is a documentary about the ...</td>\n",
       "      <td>dogtown and z - boys is a documentary about th...</td>\n",
       "      <td>dogtown and z - boys is a documentary about th...</td>\n",
       "      <td>dogtown and z - boys is a documentary about th...</td>\n",
       "      <td>0.001719</td>\n",
       "      <td>1.0</td>\n",
       "      <td>0.34375</td>\n",
       "      <td>8.003001</td>\n",
       "      <td>False\\r\\r</td>\n",
       "    </tr>\n",
       "    <tr>\n",
       "      <th>8</th>\n",
       "      <td>3865</td>\n",
       "      <td>0</td>\n",
       "      <td>NEGATIVE</td>\n",
       "      <td>POSITIVE</td>\n",
       "      <td>POSITIVE</td>\n",
       "      <td>0.000557</td>\n",
       "      <td>0.964346</td>\n",
       "      <td>if there's anything worse than this movie i do...</td>\n",
       "      <td>if there's anything worse than this movie i do...</td>\n",
       "      <td>if there's anything worse than this movie i do...</td>\n",
       "      <td>if there's anything worse than this movie i do...</td>\n",
       "      <td>0.007619</td>\n",
       "      <td>1.0</td>\n",
       "      <td>0.13750</td>\n",
       "      <td>1.465999</td>\n",
       "      <td>False\\r\\r</td>\n",
       "    </tr>\n",
       "    <tr>\n",
       "      <th>13</th>\n",
       "      <td>2177</td>\n",
       "      <td>0</td>\n",
       "      <td>NEGATIVE</td>\n",
       "      <td>POSITIVE</td>\n",
       "      <td>POSITIVE</td>\n",
       "      <td>0.000545</td>\n",
       "      <td>0.670204</td>\n",
       "      <td>what a total lump of poopoo this was! you've g...</td>\n",
       "      <td>what a total lump of poopoo this was! you've g...</td>\n",
       "      <td>what a total lump of poopoo this was! you've g...</td>\n",
       "      <td>what a total lump of poopoo this was! you've g...</td>\n",
       "      <td>0.060870</td>\n",
       "      <td>2.0</td>\n",
       "      <td>0.27500</td>\n",
       "      <td>1.087002</td>\n",
       "      <td>False\\r\\r</td>\n",
       "    </tr>\n",
       "    <tr>\n",
       "      <th>24</th>\n",
       "      <td>4894</td>\n",
       "      <td>0</td>\n",
       "      <td>POSITIVE</td>\n",
       "      <td>NEGATIVE</td>\n",
       "      <td>NEGATIVE</td>\n",
       "      <td>0.001276</td>\n",
       "      <td>0.543501</td>\n",
       "      <td>most christmas movies have a \"redemption\" them...</td>\n",
       "      <td>most christmas movies have a \"redemption\" them...</td>\n",
       "      <td>most christmas movies have a \"redemption\" them...</td>\n",
       "      <td>most christmas movies have a \"redemption\" them...</td>\n",
       "      <td>0.009485</td>\n",
       "      <td>1.0</td>\n",
       "      <td>0.48125</td>\n",
       "      <td>0.737000</td>\n",
       "      <td>False\\r\\r</td>\n",
       "    </tr>\n",
       "    <tr>\n",
       "      <th>25</th>\n",
       "      <td>2915</td>\n",
       "      <td>0</td>\n",
       "      <td>NEGATIVE</td>\n",
       "      <td>POSITIVE</td>\n",
       "      <td>POSITIVE</td>\n",
       "      <td>0.023411</td>\n",
       "      <td>0.905509</td>\n",
       "      <td>even though it doesn't really matter to the fi...</td>\n",
       "      <td>even though it doesn't really matter to the fi...</td>\n",
       "      <td>even though it doesn't really matter to the fi...</td>\n",
       "      <td>even though it doesn't really matter to the fi...</td>\n",
       "      <td>0.005530</td>\n",
       "      <td>2.0</td>\n",
       "      <td>0.27500</td>\n",
       "      <td>29.340032</td>\n",
       "      <td>False\\r\\r</td>\n",
       "    </tr>\n",
       "  </tbody>\n",
       "</table>\n",
       "</div>"
      ],
      "text/plain": [
       "    data_idx  sorted_idx orig_pred  new_pred contrast_pred  \\\n",
       "6       2835           0  POSITIVE  NEGATIVE      NEGATIVE   \n",
       "8       3865           0  NEGATIVE  POSITIVE      POSITIVE   \n",
       "13      2177           0  NEGATIVE  POSITIVE      POSITIVE   \n",
       "24      4894           0  POSITIVE  NEGATIVE      NEGATIVE   \n",
       "25      2915           0  NEGATIVE  POSITIVE      POSITIVE   \n",
       "\n",
       "    orig_contrast_prob_pred  new_contrast_prob_pred  \\\n",
       "6                  0.004004                0.743803   \n",
       "8                  0.000557                0.964346   \n",
       "13                 0.000545                0.670204   \n",
       "24                 0.001276                0.543501   \n",
       "25                 0.023411                0.905509   \n",
       "\n",
       "                                           orig_input  \\\n",
       "6   dogtown and z-boys is a documentary about the ...   \n",
       "8   if there's anything worse than this movie i do...   \n",
       "13  what a total lump of poopoo this was! you've g...   \n",
       "24  most christmas movies have a \"redemption\" them...   \n",
       "25  even though it doesn't really matter to the fi...   \n",
       "\n",
       "                                         edited_input  \\\n",
       "6   dogtown and z - boys is a documentary about th...   \n",
       "8   if there's anything worse than this movie i do...   \n",
       "13  what a total lump of poopoo this was! you've g...   \n",
       "24  most christmas movies have a \"redemption\" them...   \n",
       "25  even though it doesn't really matter to the fi...   \n",
       "\n",
       "                                    orig_editable_seg  \\\n",
       "6   dogtown and z - boys is a documentary about th...   \n",
       "8   if there's anything worse than this movie i do...   \n",
       "13  what a total lump of poopoo this was! you've g...   \n",
       "24  most christmas movies have a \"redemption\" them...   \n",
       "25  even though it doesn't really matter to the fi...   \n",
       "\n",
       "                                  edited_editable_seg  minimality  \\\n",
       "6   dogtown and z - boys is a documentary about th...    0.001719   \n",
       "8   if there's anything worse than this movie i do...    0.007619   \n",
       "13  what a total lump of poopoo this was! you've g...    0.060870   \n",
       "24  most christmas movies have a \"redemption\" them...    0.009485   \n",
       "25  even though it doesn't really matter to the fi...    0.005530   \n",
       "\n",
       "    num_edit_rounds  mask_frac   duration  error\\r\\r  \n",
       "6               1.0    0.34375   8.003001  False\\r\\r  \n",
       "8               1.0    0.13750   1.465999  False\\r\\r  \n",
       "13              2.0    0.27500   1.087002  False\\r\\r  \n",
       "24              1.0    0.48125   0.737000  False\\r\\r  \n",
       "25              2.0    0.27500  29.340032  False\\r\\r  "
      ]
     },
     "execution_count": 20,
     "metadata": {},
     "output_type": "execute_result"
    }
   ],
   "source": [
    "edits.head()"
   ]
  },
  {
   "cell_type": "code",
   "execution_count": 21,
   "metadata": {},
   "outputs": [
    {
     "name": "stderr",
     "output_type": "stream",
     "text": [
      "d:\\Repositories\\multilingual_mice\\.env\\lib\\site-packages\\huggingface_hub\\file_download.py:795: FutureWarning: `resume_download` is deprecated and will be removed in version 1.0.0. Downloads always resume when possible. If you want to force a new download, use `force_download=True`.\n",
      "  warnings.warn(\n"
     ]
    },
    {
     "data": {
      "application/vnd.jupyter.widget-view+json": {
       "model_id": "5fa4c615fec64f72b26e2236ffb0e72f",
       "version_major": 2,
       "version_minor": 0
      },
      "text/plain": [
       "  0%|          | 0/176 [00:00<?, ?it/s]"
      ]
     },
     "metadata": {},
     "output_type": "display_data"
    },
    {
     "name": "stdout",
     "output_type": "stream",
     "text": [
      "67.37803715764204\n"
     ]
    }
   ],
   "source": [
    "from mmice.ppl import Perplexity\n",
    "\n",
    "ppl = Perplexity(model_id='gpt2', device='gpu')\n",
    "results = ppl._compute(edits['edited_input'].tolist()[:], max_length=1024, batch_size=8)\n",
    "print(results['mean_perplexity'])\n",
    "\n",
    "edits['perplexity'] = results['perplexities']\n",
    "edits.to_csv(SAVE_PATH + \"best_edits.csv\", sep=\"\\t\", lineterminator=\"\\n\", index=False)"
   ]
  },
  {
   "cell_type": "code",
   "execution_count": 9,
   "metadata": {},
   "outputs": [
    {
     "name": "stderr",
     "output_type": "stream",
     "text": [
      "original sequence loss!:   5%|▍         | 19/390 [1:17:19<22:54:44, 222.33s/it]Token indices sequence length is longer than the specified maximum sequence length for this model (1309 > 700). Running this sequence through the model will result in indexing errors\n"
     ]
    }
   ],
   "source": [
    "tqdm.pandas(desc='original sequence loss!')\n",
    "a = edits[\"orig_editable_seg\"].progress_apply(lambda x: eval.score_fluency(x, 2))"
   ]
  },
  {
   "cell_type": "code",
   "execution_count": null,
   "metadata": {},
   "outputs": [],
   "source": [
    "tqdm.pandas(desc='edited sequence loss!')\n",
    "b = edits[\"edited_editable_seg\"].progress_apply(lambda x: eval.score_fluency(x) if isinstance(x, str) else 0)"
   ]
  },
  {
   "cell_type": "code",
   "execution_count": null,
   "metadata": {},
   "outputs": [],
   "source": [
    "edits['fluency'] =  b/a\n",
    "edits.to_csv(SAVE_PATH + \"best_edits.csv\", sep=\"\\t\", lineterminator=\"\\n\")"
   ]
  },
  {
   "cell_type": "code",
   "execution_count": 22,
   "metadata": {},
   "outputs": [
    {
     "name": "stdout",
     "output_type": "stream",
     "text": [
      "num_total: \t1406\n",
      "num_flipped: \t1406\n",
      "flip_rate: \t1.0\n",
      "minimality: \t0.014\n",
      "duration: \t8.475\n"
     ]
    }
   ],
   "source": [
    "#edits = read_edits(SAVE_PATH + \"best_edits.csv\")\n",
    "#edits = get_best_edits(edits)\n",
    "metrics = evaluate_edits(edits)"
   ]
  },
  {
   "cell_type": "code",
   "execution_count": null,
   "metadata": {},
   "outputs": [
    {
     "name": "stdout",
     "output_type": "stream",
     "text": [
      "-----------------------\n",
      "ORIG LABEL: \tPOSITIVE\n",
      "CONTR LABEL: \tNEGATIVE (Orig Pred Prob: 0.0)\n",
      "NEW LABEL: \tNEGATIVE (New Pred Prob: 0.587)\n",
      "\n",
      "MINIMALITY: \t0.226\n",
      "\n"
     ]
    },
    {
     "data": {
      "text/html": [
       "Man this movie is <b>awesome</b> especially the part they show the Italian chick damn shes incredibly hot shes <b>not</b> <b>your</b> <b>average</b> Italian. Mna i would go see that movie over and over just to see that chick. i really <b>enjoyed</b> the movie really hot girl shes steamy <b>sexy</b>. also the actor are really good <b>but</b> the girl is <b>better</b>. I think the actor played a better part in pride and prejudice so i don't think he acted in his highest level but yeah back to the girl i mean shes <b>gorgeous</b> perfect and i could only wish her luck in her future movies yeah also her acting skills in such young age was awesome i was just <b>amazed</b> Wit her performance. what a great actress so yeah i <b>recommend</b> everybody this great movie"
      ],
      "text/plain": [
       "<IPython.core.display.HTML object>"
      ]
     },
     "metadata": {},
     "output_type": "display_data"
    },
    {
     "data": {
      "text/html": [
       "Man this movie is <b>this</b> <b> </b>especially the part they show the Italian chick damn shes incredibly hot shes <b>worst</b> <b>film</b> <b>i</b> <b>have</b> <b> </b>Italian. Mna i would go see that movie over and over just to see that chick. i really <b>ever</b> <b> </b>the movie really hot girl shes steamy <b>time</b><b>,</b> <b>i</b><b>'ve</b> <b>seen</b> <b>a</b> <b>lot</b> <b>of</b> <b>actors</b> <b>and</b> <b>this</b> <b>movie</b> <b>has</b> <b>always</b> <b>gotten</b>. also the actor are really good<b>.</b> <b>the</b> <b>story</b> <b> </b>the girl is <b>bit</b>. I think the actor played a better part in pride and prejudice so i don't think he acted in his highest level but yeah back to the girl i mean shes<b>,</b> <b>it</b> <b> </b>perfect and i could only wish her luck in her future movies yeah also her acting skills in such young age was awesome i was just <b>just</b> <b>ed</b> Wit her performance. what a great actress so yeah i <b>just</b> <b>how</b> <b>badly</b> <b>this</b> <b>film</b> <b>has</b> <b>acted</b><b>.</b> <b>you</b><b>'ll</b> <b>kno</b> everybody this great movie"
      ],
      "text/plain": [
       "<IPython.core.display.HTML object>"
      ]
     },
     "metadata": {},
     "output_type": "display_data"
    }
   ],
   "source": [
    "random_rows = edits.sample(1)\n",
    "display_classif_results(random_rows)\n",
    "# display_race_results(random_rows)"
   ]
  }
 ],
 "metadata": {
  "kernelspec": {
   "display_name": ".env",
   "language": "python",
   "name": "python3"
  },
  "language_info": {
   "codemirror_mode": {
    "name": "ipython",
    "version": 3
   },
   "file_extension": ".py",
   "mimetype": "text/x-python",
   "name": "python",
   "nbconvert_exporter": "python",
   "pygments_lexer": "ipython3",
   "version": "3.10.9"
  }
 },
 "nbformat": 4,
 "nbformat_minor": 2
}
