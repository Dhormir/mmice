{
 "cells": [
  {
   "cell_type": "code",
   "execution_count": 1,
   "metadata": {},
   "outputs": [],
   "source": [
    "import os\n",
    "\n",
    "# Set your desired cache directory\n",
    "os.environ['HF_HOME'] = 'D:\\Repositories\\multilingual_mice\\.cache'"
   ]
  },
  {
   "cell_type": "code",
   "execution_count": 2,
   "metadata": {},
   "outputs": [
    {
     "name": "stderr",
     "output_type": "stream",
     "text": [
      "The tokenizer class you load from this checkpoint is not the same type as the class this function is called from. It may result in unexpected tokenization. \n",
      "The tokenizer class you load from this checkpoint is 'T5Tokenizer'. \n",
      "The class this function is called from is 'MT5TokenizerFast'.\n",
      "d:\\Repositories\\multilingual_mice\\.env\\lib\\site-packages\\transformers\\convert_slow_tokenizer.py:559: UserWarning: The sentencepiece tokenizer that you are converting to a fast tokenizer uses the byte fallback option which is not implemented in the fast tokenizers. In practice this means that the fast version of the tokenizer can produce unknown tokens whereas the sentencepiece version would have converted these unknown tokens into a sequence of byte tokens matching the original piece of text.\n",
      "  warnings.warn(\n"
     ]
    }
   ],
   "source": [
    "import pandas as pd\n",
    "import sys\n",
    "sys.path.append(\"..\")\n",
    "from mmice.utils import html_highlight_diffs\n",
    "from mmice.edit_finder import EditEvaluator\n",
    "from mmice.maskers.random_masker import RandomMasker\n",
    "from transformers import MT5TokenizerFast\n",
    "from IPython.display import display, HTML\n",
    "import numpy as np\n",
    "import spacy\n",
    "from tqdm import tqdm\n",
    "\n",
    "nlp = spacy.load(\"en_core_web_sm\")\n",
    "\n",
    "eval = EditEvaluator(fluency_model_name=\"google/mt5-small\",\n",
    "                     fluency_masker=RandomMasker(None, MT5TokenizerFast.from_pretrained(\"google/mt5-small\",\n",
    "                                                                                        # force_download=True,\n",
    "                                                                                        model_max_length=700, legacy=False), 700))"
   ]
  },
  {
   "cell_type": "code",
   "execution_count": null,
   "metadata": {},
   "outputs": [],
   "source": [
    "FIX_FLAG = False\n",
    "LOAD_BEST = True\n",
    "TASK = \"imdb\"\n",
    "STAGE2EXP = \"mice-mt5-small-lora-02\"\n",
    "SAVE_PATH = f\"../results/{TASK}/edits/{STAGE2EXP}/\"\n",
    "EDIT_PATH = SAVE_PATH + \"edits.csv\""
   ]
  },
  {
   "cell_type": "code",
   "execution_count": 4,
   "metadata": {},
   "outputs": [],
   "source": [
    "def read_edits(path):\n",
    "    edits = pd.read_csv(path, sep=\"\\t\", lineterminator=\"\\n\").dropna()\n",
    "    edits = edits[edits['data_idx'] != 'data_idx']\n",
    "    if edits['new_pred'].dtype == np.dtype('float64'):\n",
    "        edits['new_pred'] = edits.apply(lambda row: str(int(row['new_pred']) if not np.isnan(row['new_pred']) else \"\"), axis=1)\n",
    "        edits['orig_pred'] = edits.apply(lambda row: str(int(row['orig_pred']) if not np.isnan(row['orig_pred']) else \"\"), axis=1)\n",
    "        edits['contrast_pred'] = edits.apply(lambda row: str(int(row['contrast_pred']) if not np.isnan(row['contrast_pred']) else \"\"), axis=1)\n",
    "    else:\n",
    "        edits['new_pred'].fillna(value=\"\", inplace=True)\n",
    "        edits['orig_pred'].fillna(value=\"\", inplace=True)\n",
    "        edits['contrast_pred'].fillna(value=\"\", inplace=True)\n",
    "    return edits"
   ]
  },
  {
   "cell_type": "code",
   "execution_count": 5,
   "metadata": {},
   "outputs": [],
   "source": [
    "def get_best_edits(edits):\n",
    "    \"\"\" MiCE writes all edits that are found in Stage 2, \n",
    "    but we only want to evaluate the smallest per input. \n",
    "    Calling get_sorted_e() \"\"\"\n",
    "    edits['sorted_idx'] = pd.to_numeric(edits['sorted_idx'])\n",
    "    edits['minimality'] = pd.to_numeric(edits['minimality'])\n",
    "    edits['data_idx'] = pd.to_numeric(edits['data_idx'])\n",
    "    edits['duration'] = pd.to_numeric(edits['duration'])\n",
    "    return edits[edits['sorted_idx'] == 0]\n",
    "    \n",
    "def evaluate_edits(edits):\n",
    "    temp = edits[edits['sorted_idx'] == 0]\n",
    "    minim = temp['minimality'].mean()\n",
    "    flipped = temp[temp['new_pred'].astype(str)==temp['contrast_pred'].astype(str)]\n",
    "    nunique = temp['data_idx'].nunique()\n",
    "    \n",
    "    flip_rate = len(flipped)/nunique\n",
    "    duration = temp['duration'].mean()\n",
    "    metrics = {\n",
    "        \"num_total\": nunique,\n",
    "        \"num_flipped\": len(flipped),\n",
    "        \"flip_rate\": flip_rate,\n",
    "        \"minimality\": minim,\n",
    "        #\"fluency\": temp['fluency'].mean(),\n",
    "        \"duration\": duration,\n",
    "    }\n",
    "    for k, v in metrics.items():\n",
    "        print(f\"{k}: \\t{round(v, 3)}\")\n",
    "    return metrics"
   ]
  },
  {
   "cell_type": "code",
   "execution_count": 6,
   "metadata": {},
   "outputs": [],
   "source": [
    "def display_edits(row):\n",
    "    html_original, html_edited = html_highlight_diffs(row['orig_editable_seg'], row['edited_editable_seg'], nlp)\n",
    "    minim = round(row['minimality'], 3)\n",
    "    print(f\"MINIMALITY: \\t{minim}\")\n",
    "    print(\"\")\n",
    "    display(HTML(html_original))\n",
    "    display(HTML(html_edited))\n",
    "\n",
    "def display_classif_results(rows):\n",
    "    for _, row in rows.iterrows():\n",
    "        orig_contrast_prob_pred = round(row['orig_contrast_prob_pred'], 3)\n",
    "        new_contrast_prob_pred = round(row['new_contrast_prob_pred'], 3)\n",
    "        print(\"-----------------------\")\n",
    "        print(f\"ORIG LABEL: \\t{row['orig_pred']}\")\n",
    "        print(f\"CONTR LABEL: \\t{row['contrast_pred']} (Orig Pred Prob: {orig_contrast_prob_pred})\")\n",
    "        print(f\"NEW LABEL: \\t{row['new_pred']} (New Pred Prob: {new_contrast_prob_pred})\")\n",
    "        print(\"\")\n",
    "        display_edits(row)\n",
    "\n",
    "def display_race_results(rows):\n",
    "    for _, row in rows.iterrows():\n",
    "        orig_contrast_prob_pred = round(row['orig_contrast_prob_pred'], 3)\n",
    "        new_contrast_prob_pred = round(row['new_contrast_prob_pred'], 3)\n",
    "        orig_input = eval(row['orig_input'])\n",
    "        options = orig_input['options']\n",
    "        print(\"-----------------------\")\n",
    "        print(f\"QUESTION: {orig_input['question']}\")\n",
    "        print(\"\\nOPTIONS:\")\n",
    "        for opt_idx, opt in enumerate(options):\n",
    "            print(f\"  ({opt_idx}) {opt}\")\n",
    "        print(f\"\\nORIG LABEL: \\t{row['orig_pred']}\")\n",
    "        print(f\"CONTR LABEL: \\t{row['contrast_pred']} (Orig Pred Prob: {orig_contrast_prob_pred})\")\n",
    "        print(f\"NEW LABEL: \\t{row['new_pred']} (New Pred Prob: {new_contrast_prob_pred})\")\n",
    "        print(\"\")\n",
    "        display_edits(row)"
   ]
  },
  {
   "cell_type": "code",
   "execution_count": 7,
   "metadata": {},
   "outputs": [],
   "source": [
    "def fix_windows_corruption(file_path):\n",
    "    new_file_path = file_path.split(\"/\")\n",
    "    new_file_path[-1] = 'fixed_edits.csv'\n",
    "    new_file_path = \"/\".join(new_file_path)\n",
    "    with open(file_path, 'r') as f, open(new_file_path, 'w+') as new_file:\n",
    "        i = 0\n",
    "        for line in f:\n",
    "            i += 1\n",
    "            line_ = line.replace(\";\", \"\").strip()\n",
    "            if len(line_) == 0:\n",
    "                continue\n",
    "            if line_[0] == \"\\\"\":\n",
    "                line_ = line_[1:]\n",
    "            if line_[-1] == \"\\\"\":\n",
    "                line_ = line_[:-1] \n",
    "            new_file.write(line_ + \"\\n\")\n",
    "    return new_file_path\n",
    "\n",
    "\n",
    "if FIX_FLAG:\n",
    "    EDIT_PATH = fix_windows_corruption(EDIT_PATH)           "
   ]
  },
  {
   "cell_type": "code",
   "execution_count": 8,
   "metadata": {},
   "outputs": [],
   "source": [
    "edits = read_edits(EDIT_PATH) #if not LOAD_BEST else read_edits(SAVE_PATH + \"best_edits.csv\")\n",
    "edits = get_best_edits(edits)"
   ]
  },
  {
   "cell_type": "code",
   "execution_count": 9,
   "metadata": {},
   "outputs": [
    {
     "data": {
      "text/html": [
       "<div>\n",
       "<style scoped>\n",
       "    .dataframe tbody tr th:only-of-type {\n",
       "        vertical-align: middle;\n",
       "    }\n",
       "\n",
       "    .dataframe tbody tr th {\n",
       "        vertical-align: top;\n",
       "    }\n",
       "\n",
       "    .dataframe thead th {\n",
       "        text-align: right;\n",
       "    }\n",
       "</style>\n",
       "<table border=\"1\" class=\"dataframe\">\n",
       "  <thead>\n",
       "    <tr style=\"text-align: right;\">\n",
       "      <th></th>\n",
       "      <th>data_idx</th>\n",
       "      <th>sorted_idx</th>\n",
       "      <th>orig_pred</th>\n",
       "      <th>new_pred</th>\n",
       "      <th>contrast_pred</th>\n",
       "      <th>orig_contrast_prob_pred</th>\n",
       "      <th>new_contrast_prob_pred</th>\n",
       "      <th>orig_input</th>\n",
       "      <th>edited_input</th>\n",
       "      <th>orig_editable_seg</th>\n",
       "      <th>edited_editable_seg</th>\n",
       "      <th>minimality</th>\n",
       "      <th>num_edit_rounds</th>\n",
       "      <th>mask_frac</th>\n",
       "      <th>duration</th>\n",
       "      <th>error\\r\\r</th>\n",
       "    </tr>\n",
       "  </thead>\n",
       "  <tbody>\n",
       "    <tr>\n",
       "      <th>0</th>\n",
       "      <td>59</td>\n",
       "      <td>0</td>\n",
       "      <td>NEGATIVE</td>\n",
       "      <td>POSITIVE</td>\n",
       "      <td>POSITIVE</td>\n",
       "      <td>0.000894</td>\n",
       "      <td>0.988344</td>\n",
       "      <td>sex, drugs, racism and of course you abc's. wh...</td>\n",
       "      <td>the video is pretty awesome! i love a kid's s...</td>\n",
       "      <td>sex, drugs, racism and of course you abc's. wh...</td>\n",
       "      <td>the video is pretty awesome! i love a kid's s...</td>\n",
       "      <td>0.000975</td>\n",
       "      <td>1</td>\n",
       "      <td>0.171875</td>\n",
       "      <td>110.385358</td>\n",
       "      <td>False\\r\\r</td>\n",
       "    </tr>\n",
       "    <tr>\n",
       "      <th>8</th>\n",
       "      <td>21</td>\n",
       "      <td>0</td>\n",
       "      <td>NEGATIVE</td>\n",
       "      <td>POSITIVE</td>\n",
       "      <td>POSITIVE</td>\n",
       "      <td>0.005748</td>\n",
       "      <td>0.951881</td>\n",
       "      <td>coming from kiarostami, this art-house visual ...</td>\n",
       "      <td>how did he do it? 10 minutes. the camera stand...</td>\n",
       "      <td>coming from kiarostami, this art - house visua...</td>\n",
       "      <td>how did he do it? 10 minutes. the camera stand...</td>\n",
       "      <td>0.002590</td>\n",
       "      <td>1</td>\n",
       "      <td>0.275000</td>\n",
       "      <td>1522.793333</td>\n",
       "      <td>False\\r\\r</td>\n",
       "    </tr>\n",
       "    <tr>\n",
       "      <th>52</th>\n",
       "      <td>56</td>\n",
       "      <td>0</td>\n",
       "      <td>NEGATIVE</td>\n",
       "      <td>POSITIVE</td>\n",
       "      <td>POSITIVE</td>\n",
       "      <td>0.000614</td>\n",
       "      <td>0.978662</td>\n",
       "      <td>i wasn't able to last ten minutes on the this ...</td>\n",
       "      <td>i wasn't able to last ten minutes on the this ...</td>\n",
       "      <td>i wasn't able to last ten minutes on the this ...</td>\n",
       "      <td>i wasn't able to last ten minutes on the this ...</td>\n",
       "      <td>0.000159</td>\n",
       "      <td>1</td>\n",
       "      <td>0.068750</td>\n",
       "      <td>159.305464</td>\n",
       "      <td>False\\r\\r</td>\n",
       "    </tr>\n",
       "    <tr>\n",
       "      <th>69</th>\n",
       "      <td>18</td>\n",
       "      <td>0</td>\n",
       "      <td>POSITIVE</td>\n",
       "      <td>NEGATIVE</td>\n",
       "      <td>NEGATIVE</td>\n",
       "      <td>0.000321</td>\n",
       "      <td>0.973081</td>\n",
       "      <td>definitely a movie for people who ask only to ...</td>\n",
       "      <td>definitely a movie for people who ask only to ...</td>\n",
       "      <td>definitely a movie for people who ask only to ...</td>\n",
       "      <td>definitely a movie for people who ask only to ...</td>\n",
       "      <td>0.000072</td>\n",
       "      <td>1</td>\n",
       "      <td>0.034375</td>\n",
       "      <td>293.245705</td>\n",
       "      <td>False\\r\\r</td>\n",
       "    </tr>\n",
       "    <tr>\n",
       "      <th>94</th>\n",
       "      <td>33</td>\n",
       "      <td>0</td>\n",
       "      <td>NEGATIVE</td>\n",
       "      <td>POSITIVE</td>\n",
       "      <td>POSITIVE</td>\n",
       "      <td>0.000878</td>\n",
       "      <td>0.981583</td>\n",
       "      <td>unlike terms of endearment and steel magnolia'...</td>\n",
       "      <td>unlike terms of endearment and steel magnolia'...</td>\n",
       "      <td>unlike terms of endearment and steel magnolia'...</td>\n",
       "      <td>unlike terms of endearment and steel magnolia'...</td>\n",
       "      <td>0.000004</td>\n",
       "      <td>1</td>\n",
       "      <td>0.034375</td>\n",
       "      <td>168.752117</td>\n",
       "      <td>False\\r\\r</td>\n",
       "    </tr>\n",
       "  </tbody>\n",
       "</table>\n",
       "</div>"
      ],
      "text/plain": [
       "    data_idx  sorted_idx orig_pred  new_pred contrast_pred  \\\n",
       "0         59           0  NEGATIVE  POSITIVE      POSITIVE   \n",
       "8         21           0  NEGATIVE  POSITIVE      POSITIVE   \n",
       "52        56           0  NEGATIVE  POSITIVE      POSITIVE   \n",
       "69        18           0  POSITIVE  NEGATIVE      NEGATIVE   \n",
       "94        33           0  NEGATIVE  POSITIVE      POSITIVE   \n",
       "\n",
       "    orig_contrast_prob_pred  new_contrast_prob_pred  \\\n",
       "0                  0.000894                0.988344   \n",
       "8                  0.005748                0.951881   \n",
       "52                 0.000614                0.978662   \n",
       "69                 0.000321                0.973081   \n",
       "94                 0.000878                0.981583   \n",
       "\n",
       "                                           orig_input  \\\n",
       "0   sex, drugs, racism and of course you abc's. wh...   \n",
       "8   coming from kiarostami, this art-house visual ...   \n",
       "52  i wasn't able to last ten minutes on the this ...   \n",
       "69  definitely a movie for people who ask only to ...   \n",
       "94  unlike terms of endearment and steel magnolia'...   \n",
       "\n",
       "                                         edited_input  \\\n",
       "0    the video is pretty awesome! i love a kid's s...   \n",
       "8   how did he do it? 10 minutes. the camera stand...   \n",
       "52  i wasn't able to last ten minutes on the this ...   \n",
       "69  definitely a movie for people who ask only to ...   \n",
       "94  unlike terms of endearment and steel magnolia'...   \n",
       "\n",
       "                                    orig_editable_seg  \\\n",
       "0   sex, drugs, racism and of course you abc's. wh...   \n",
       "8   coming from kiarostami, this art - house visua...   \n",
       "52  i wasn't able to last ten minutes on the this ...   \n",
       "69  definitely a movie for people who ask only to ...   \n",
       "94  unlike terms of endearment and steel magnolia'...   \n",
       "\n",
       "                                  edited_editable_seg  minimality  \\\n",
       "0    the video is pretty awesome! i love a kid's s...    0.000975   \n",
       "8   how did he do it? 10 minutes. the camera stand...    0.002590   \n",
       "52  i wasn't able to last ten minutes on the this ...    0.000159   \n",
       "69  definitely a movie for people who ask only to ...    0.000072   \n",
       "94  unlike terms of endearment and steel magnolia'...    0.000004   \n",
       "\n",
       "    num_edit_rounds  mask_frac     duration  error\\r\\r  \n",
       "0                 1   0.171875   110.385358  False\\r\\r  \n",
       "8                 1   0.275000  1522.793333  False\\r\\r  \n",
       "52                1   0.068750   159.305464  False\\r\\r  \n",
       "69                1   0.034375   293.245705  False\\r\\r  \n",
       "94                1   0.034375   168.752117  False\\r\\r  "
      ]
     },
     "execution_count": 9,
     "metadata": {},
     "output_type": "execute_result"
    }
   ],
   "source": [
    "edits.head()"
   ]
  },
  {
   "cell_type": "code",
   "execution_count": 10,
   "metadata": {},
   "outputs": [
    {
     "data": {
      "application/vnd.jupyter.widget-view+json": {
       "model_id": "a5f82dec5cc74403a0ab0872fa70214e",
       "version_major": 2,
       "version_minor": 0
      },
      "text/plain": [
       "  0%|          | 0/100 [00:00<?, ?it/s]"
      ]
     },
     "metadata": {},
     "output_type": "display_data"
    },
    {
     "data": {
      "application/vnd.jupyter.widget-view+json": {
       "model_id": "e7141184944f4145b1967b8cda027c13",
       "version_major": 2,
       "version_minor": 0
      },
      "text/plain": [
       "  0%|          | 0/100 [00:00<?, ?it/s]"
      ]
     },
     "metadata": {},
     "output_type": "display_data"
    }
   ],
   "source": [
    "from evaluate import load\n",
    "perplexity = load(\"perplexity\", module_type=\"metric\")\n",
    "\n",
    "edited_results = perplexity.compute(predictions=edits['edited_input'].tolist()[:], model_id='facebook/xglm-1.7B', batch_size=1)\n",
    "orig_results = perplexity.compute(predictions=edits['orig_input'].tolist()[:], model_id='facebook/xglm-1.7B', batch_size=1)"
   ]
  },
  {
   "cell_type": "code",
   "execution_count": 15,
   "metadata": {},
   "outputs": [
    {
     "name": "stdout",
     "output_type": "stream",
     "text": [
      "40.917891302108764\n",
      "29.09078013420105\n"
     ]
    }
   ],
   "source": [
    "print(edited_results['mean_perplexity'])\n",
    "print(orig_results['mean_perplexity'])\n",
    "\n",
    "\n",
    "edits['edit_perplexity'] = edited_results['perplexities']\n",
    "edits['orig_perplexity'] = orig_results['perplexities']\n",
    "edits.to_parquet(SAVE_PATH + \"best_edits.parquet.gzip\",\n",
    "                 compression='gzip')"
   ]
  },
  {
   "cell_type": "code",
   "execution_count": 12,
   "metadata": {},
   "outputs": [],
   "source": [
    "# tqdm.pandas(desc='original sequence loss!')\n",
    "# a = edits[\"orig_editable_seg\"].progress_apply(lambda x: eval.score_fluency(x, 2))\n",
    "\n",
    "# tqdm.pandas(desc='edited sequence loss!')\n",
    "# b = edits[\"edited_editable_seg\"].progress_apply(lambda x: eval.score_fluency(x) if isinstance(x, str) else 0)\n",
    "\n",
    "# edits['fluency'] =  b/a\n",
    "# edits.to_csv(SAVE_PATH + \"best_edits.csv\", sep=\"\\t\", lineterminator=\"\\n\")"
   ]
  },
  {
   "cell_type": "code",
   "execution_count": 13,
   "metadata": {},
   "outputs": [
    {
     "name": "stdout",
     "output_type": "stream",
     "text": [
      "num_total: \t100\n",
      "num_flipped: \t100\n",
      "flip_rate: \t1.0\n",
      "minimality: \t0.001\n",
      "duration: \t308.72\n"
     ]
    }
   ],
   "source": [
    "#edits = read_edits(SAVE_PATH + \"best_edits.csv\")\n",
    "#edits = get_best_edits(edits)\n",
    "metrics = evaluate_edits(edits)"
   ]
  },
  {
   "cell_type": "code",
   "execution_count": 14,
   "metadata": {},
   "outputs": [
    {
     "name": "stdout",
     "output_type": "stream",
     "text": [
      "-----------------------\n",
      "ORIG LABEL: \tPOSITIVE\n",
      "CONTR LABEL: \tNEGATIVE (Orig Pred Prob: 0.002)\n",
      "NEW LABEL: \tNEGATIVE (New Pred Prob: 0.995)\n",
      "\n",
      "MINIMALITY: \t0.002\n",
      "\n"
     ]
    },
    {
     "data": {
      "text/html": [
       "crackerjack <b>is</b> <b>another</b> <b>classic</b> <b>aussie</b> film. as so many australian films like the castle, the dish and sunday too far away, it <b>goes</b> <b>somewhere</b> that hasn't been widely explored in film before, this time it is the game of lawn bowls and bowling clubs. crackerjack <b>is</b> <b>a</b> <b>much</b> <b>slower</b> <b>paced</b> <b>sports</b> <b>movie</b> <b>than</b> many you will find such as remember the titans or million dollar babybut the characters involved are <b>athletes</b> in their own right. this movie is a show <b>case</b> of a large area of australian culture and features a <b>sport</b> that is <b>popular</b> and on the rise of popularity in australia. mick molloy <b>presents</b> a <b>classic</b>, <b>unforgettable</b> <b>character</b>. <b>it</b> <b>really</b> <b>is</b> <b>a</b> <b>must</b> <b>see</b><b>.</b>"
      ],
      "text/plain": [
       "<IPython.core.display.HTML object>"
      ]
     },
     "metadata": {},
     "output_type": "display_data"
    },
    {
     "data": {
      "text/html": [
       "crackerjack <b> </b><b>jack</b> <b>te</b> film. as so many australian films like the castle, the dish and sunday too far away, it <b> </b><b>is</b> <b>not</b> <b>a</b> <b>thriller</b> that hasn't been widely explored in film before, this time it is the game of lawn bowls and <b> </b>bowling clubs. crackerjack <b>never</b> <b>really</b> <b> </b><b>resembles</b> <b>any</b> <b> </b><b>king</b> many you will find such as remember the titans or million dollar babybut the characters involved are <b> </b><b>incredibly</b> <b>beautiful</b> in their own right. this movie is a show <b> </b><b>to</b> <b>explore</b> <b>the</b> <b>history</b> of a large area of australian culture and features a <b> </b><b>history</b> that is <b> </b><b>growing</b> and on the rise of popularity in australia. mick molloy <b> </b><b>makes</b> a <b> </b><b>film</b> <b>that</b> <b>has</b> <b>never</b> <b>had</b> <b>success</b>, <b> </b><b>and</b> <b>it</b> <b> </b><b>is</b> <b>ruined</b>."
      ],
      "text/plain": [
       "<IPython.core.display.HTML object>"
      ]
     },
     "metadata": {},
     "output_type": "display_data"
    }
   ],
   "source": [
    "random_rows = edits.sample(1)\n",
    "display_classif_results(random_rows)\n",
    "# display_race_results(random_rows)"
   ]
  }
 ],
 "metadata": {
  "kernelspec": {
   "display_name": ".env",
   "language": "python",
   "name": "python3"
  },
  "language_info": {
   "codemirror_mode": {
    "name": "ipython",
    "version": 3
   },
   "file_extension": ".py",
   "mimetype": "text/x-python",
   "name": "python",
   "nbconvert_exporter": "python",
   "pygments_lexer": "ipython3",
   "version": "3.10.9"
  }
 },
 "nbformat": 4,
 "nbformat_minor": 2
}
