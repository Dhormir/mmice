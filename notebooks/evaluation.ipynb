{
 "cells": [
  {
   "cell_type": "code",
   "execution_count": 1,
   "metadata": {},
   "outputs": [
    {
     "name": "stderr",
     "output_type": "stream",
     "text": [
      "d:\\Repositories\\multilingual_mice\\.env\\lib\\site-packages\\transformers\\convert_slow_tokenizer.py:473: UserWarning: The sentencepiece tokenizer that you are converting to a fast tokenizer uses the byte fallback option which is not implemented in the fast tokenizers. In practice this means that the fast version of the tokenizer can produce unknown tokens whereas the sentencepiece version would have converted these unknown tokens into a sequence of byte tokens matching the original piece of text.\n",
      "  warnings.warn(\n"
     ]
    }
   ],
   "source": [
    "import pandas as pd\n",
    "import sys\n",
    "sys.path.append(\"..\")\n",
    "from mmice.utils import html_highlight_diffs\n",
    "from mmice.edit_finder import EditEvaluator\n",
    "from mmice.maskers.random_masker import RandomMasker\n",
    "from transformers import MT5TokenizerFast\n",
    "from IPython.display import display, HTML\n",
    "import numpy as np\n",
    "import spacy\n",
    "from tqdm import tqdm\n",
    "\n",
    "nlp = spacy.load(\"en_core_web_sm\")\n",
    "\n",
    "eval = EditEvaluator(fluency_model_name=\"google/umt5-small\",\n",
    "                     fluency_masker=RandomMasker(None, MT5TokenizerFast.from_pretrained(\"google/mt5-small\", model_max_length=700, legacy=False), 700))"
   ]
  },
  {
   "cell_type": "code",
   "execution_count": 2,
   "metadata": {},
   "outputs": [],
   "source": [
    "FIX_FLAG = False\n",
    "LOAD_BEST = True\n",
    "TASK = \"imdb\"\n",
    "STAGE2EXP = \"mmice-test-editor-umt5\"\n",
    "SAVE_PATH = f\"../results/{TASK}/edits/{STAGE2EXP}/\"\n",
    "EDIT_PATH = SAVE_PATH + \"edits.csv\""
   ]
  },
  {
   "cell_type": "code",
   "execution_count": 3,
   "metadata": {},
   "outputs": [],
   "source": [
    "def read_edits(path):\n",
    "    edits = pd.read_csv(path, sep=\"\\t\", lineterminator=\"\\n\").dropna()\n",
    "    edits = edits[edits['data_idx'] != 'data_idx']\n",
    "    if edits['new_pred'].dtype == np.dtype('float64'):\n",
    "        edits['new_pred'] = edits.apply(lambda row: str(int(row['new_pred']) if not np.isnan(row['new_pred']) else \"\"), axis=1)\n",
    "        edits['orig_pred'] = edits.apply(lambda row: str(int(row['orig_pred']) if not np.isnan(row['orig_pred']) else \"\"), axis=1)\n",
    "        edits['contrast_pred'] = edits.apply(lambda row: str(int(row['contrast_pred']) if not np.isnan(row['contrast_pred']) else \"\"), axis=1)\n",
    "    else:\n",
    "        edits['new_pred'].fillna(value=\"\", inplace=True)\n",
    "        edits['orig_pred'].fillna(value=\"\", inplace=True)\n",
    "        edits['contrast_pred'].fillna(value=\"\", inplace=True)\n",
    "    return edits"
   ]
  },
  {
   "cell_type": "code",
   "execution_count": 4,
   "metadata": {},
   "outputs": [],
   "source": [
    "def get_best_edits(edits):\n",
    "    \"\"\" MiCE writes all edits that are found in Stage 2, \n",
    "    but we only want to evaluate the smallest per input. \n",
    "    Calling get_sorted_e() \"\"\"\n",
    "    edits['sorted_idx'] = pd.to_numeric(edits['sorted_idx'])\n",
    "    edits['minimality'] = pd.to_numeric(edits['minimality'])\n",
    "    edits['data_idx'] = pd.to_numeric(edits['data_idx'])\n",
    "    edits['duration'] = pd.to_numeric(edits['duration'])\n",
    "    return edits[edits['sorted_idx'] == 0]\n",
    "    \n",
    "def evaluate_edits(edits):\n",
    "    temp = edits[edits['sorted_idx'] == 0]\n",
    "    minim = temp['minimality'].mean()\n",
    "    flipped = temp[temp['new_pred'].astype(str)==temp['contrast_pred'].astype(str)]\n",
    "    nunique = temp['data_idx'].nunique()\n",
    "    \n",
    "    flip_rate = len(flipped)/nunique\n",
    "    duration = temp['duration'].mean()\n",
    "    metrics = {\n",
    "        \"num_total\": nunique,\n",
    "        \"num_flipped\": len(flipped),\n",
    "        \"flip_rate\": flip_rate,\n",
    "        \"minimality\": minim,\n",
    "        #\"fluency\": temp['fluency'].mean(),\n",
    "        \"duration\": duration,\n",
    "    }\n",
    "    for k, v in metrics.items():\n",
    "        print(f\"{k}: \\t{round(v, 3)}\")\n",
    "    return metrics"
   ]
  },
  {
   "cell_type": "code",
   "execution_count": 5,
   "metadata": {},
   "outputs": [],
   "source": [
    "def display_edits(row):\n",
    "    html_original, html_edited = html_highlight_diffs(row['orig_editable_seg'], row['edited_editable_seg'], nlp)\n",
    "    minim = round(row['minimality'], 3)\n",
    "    print(f\"MINIMALITY: \\t{minim}\")\n",
    "    print(\"\")\n",
    "    display(HTML(html_original))\n",
    "    display(HTML(html_edited))\n",
    "\n",
    "def display_classif_results(rows):\n",
    "    for _, row in rows.iterrows():\n",
    "        orig_contrast_prob_pred = round(row['orig_contrast_prob_pred'], 3)\n",
    "        new_contrast_prob_pred = round(row['new_contrast_prob_pred'], 3)\n",
    "        print(\"-----------------------\")\n",
    "        print(f\"ORIG LABEL: \\t{row['orig_pred']}\")\n",
    "        print(f\"CONTR LABEL: \\t{row['contrast_pred']} (Orig Pred Prob: {orig_contrast_prob_pred})\")\n",
    "        print(f\"NEW LABEL: \\t{row['new_pred']} (New Pred Prob: {new_contrast_prob_pred})\")\n",
    "        print(\"\")\n",
    "        display_edits(row)\n",
    "\n",
    "def display_race_results(rows):\n",
    "    for _, row in rows.iterrows():\n",
    "        orig_contrast_prob_pred = round(row['orig_contrast_prob_pred'], 3)\n",
    "        new_contrast_prob_pred = round(row['new_contrast_prob_pred'], 3)\n",
    "        orig_input = eval(row['orig_input'])\n",
    "        options = orig_input['options']\n",
    "        print(\"-----------------------\")\n",
    "        print(f\"QUESTION: {orig_input['question']}\")\n",
    "        print(\"\\nOPTIONS:\")\n",
    "        for opt_idx, opt in enumerate(options):\n",
    "            print(f\"  ({opt_idx}) {opt}\")\n",
    "        print(f\"\\nORIG LABEL: \\t{row['orig_pred']}\")\n",
    "        print(f\"CONTR LABEL: \\t{row['contrast_pred']} (Orig Pred Prob: {orig_contrast_prob_pred})\")\n",
    "        print(f\"NEW LABEL: \\t{row['new_pred']} (New Pred Prob: {new_contrast_prob_pred})\")\n",
    "        print(\"\")\n",
    "        display_edits(row)"
   ]
  },
  {
   "cell_type": "code",
   "execution_count": 6,
   "metadata": {},
   "outputs": [],
   "source": [
    "def fix_windows_corruption(file_path):\n",
    "    new_file_path = file_path.split(\"/\")\n",
    "    new_file_path[-1] = 'fixed_edits.csv'\n",
    "    new_file_path = \"/\".join(new_file_path)\n",
    "    with open(file_path, 'r') as f, open(new_file_path, 'w+') as new_file:\n",
    "        i = 0\n",
    "        for line in f:\n",
    "            i += 1\n",
    "            line_ = line.replace(\";\", \"\").strip()\n",
    "            if len(line_) == 0:\n",
    "                continue\n",
    "            if line_[0] == \"\\\"\":\n",
    "                line_ = line_[1:]\n",
    "            if line_[-1] == \"\\\"\":\n",
    "                line_ = line_[:-1] \n",
    "            new_file.write(line_ + \"\\n\")\n",
    "    return new_file_path\n",
    "\n",
    "\n",
    "if FIX_FLAG:\n",
    "    EDIT_PATH = fix_windows_corruption(EDIT_PATH)           "
   ]
  },
  {
   "cell_type": "code",
   "execution_count": 7,
   "metadata": {},
   "outputs": [],
   "source": [
    "edits = read_edits(EDIT_PATH) if not LOAD_BEST else read_edits(SAVE_PATH + \"best_edits.csv\")\n",
    "edits = get_best_edits(edits)"
   ]
  },
  {
   "cell_type": "code",
   "execution_count": 8,
   "metadata": {},
   "outputs": [
    {
     "data": {
      "text/html": [
       "<div>\n",
       "<style scoped>\n",
       "    .dataframe tbody tr th:only-of-type {\n",
       "        vertical-align: middle;\n",
       "    }\n",
       "\n",
       "    .dataframe tbody tr th {\n",
       "        vertical-align: top;\n",
       "    }\n",
       "\n",
       "    .dataframe thead th {\n",
       "        text-align: right;\n",
       "    }\n",
       "</style>\n",
       "<table border=\"1\" class=\"dataframe\">\n",
       "  <thead>\n",
       "    <tr style=\"text-align: right;\">\n",
       "      <th></th>\n",
       "      <th>data_idx</th>\n",
       "      <th>sorted_idx</th>\n",
       "      <th>orig_pred</th>\n",
       "      <th>new_pred</th>\n",
       "      <th>contrast_pred</th>\n",
       "      <th>orig_contrast_prob_pred</th>\n",
       "      <th>new_contrast_prob_pred</th>\n",
       "      <th>orig_input</th>\n",
       "      <th>edited_input</th>\n",
       "      <th>orig_editable_seg</th>\n",
       "      <th>edited_editable_seg</th>\n",
       "      <th>minimality</th>\n",
       "      <th>num_edit_rounds</th>\n",
       "      <th>mask_frac</th>\n",
       "      <th>duration</th>\n",
       "      <th>error\\r</th>\n",
       "      <th>perplexity</th>\n",
       "    </tr>\n",
       "  </thead>\n",
       "  <tbody>\n",
       "    <tr>\n",
       "      <th>0</th>\n",
       "      <td>473</td>\n",
       "      <td>0</td>\n",
       "      <td>NEGATIVE</td>\n",
       "      <td>POSITIVE</td>\n",
       "      <td>POSITIVE</td>\n",
       "      <td>0.005314</td>\n",
       "      <td>0.897639</td>\n",
       "      <td>I've got as much testosterone as the next blok...</td>\n",
       "      <td>I've got as much testosterone as the next blok...</td>\n",
       "      <td>I've got as much testosterone as the next blok...</td>\n",
       "      <td>I've got as much testosterone as the next blok...</td>\n",
       "      <td>0.160677</td>\n",
       "      <td>1.0</td>\n",
       "      <td>0.034375</td>\n",
       "      <td>119.766565</td>\n",
       "      <td>False\\r</td>\n",
       "      <td>54.948025</td>\n",
       "    </tr>\n",
       "    <tr>\n",
       "      <th>1</th>\n",
       "      <td>132</td>\n",
       "      <td>0</td>\n",
       "      <td>NEGATIVE</td>\n",
       "      <td>POSITIVE</td>\n",
       "      <td>POSITIVE</td>\n",
       "      <td>0.000425</td>\n",
       "      <td>0.862147</td>\n",
       "      <td>This should be re-named \"\"\"\"Everybody Loves Se...</td>\n",
       "      <td>This should be re-named \"\"\"\"Everybody Loves Se...</td>\n",
       "      <td>This should be re-named \"\"\"\"Everybody Loves Se...</td>\n",
       "      <td>This should be re-named \"\"\"\"Everybody Loves Se...</td>\n",
       "      <td>0.240575</td>\n",
       "      <td>1.0</td>\n",
       "      <td>0.068750</td>\n",
       "      <td>186.746424</td>\n",
       "      <td>False\\r</td>\n",
       "      <td>113.194962</td>\n",
       "    </tr>\n",
       "    <tr>\n",
       "      <th>2</th>\n",
       "      <td>472</td>\n",
       "      <td>0</td>\n",
       "      <td>POSITIVE</td>\n",
       "      <td>NEGATIVE</td>\n",
       "      <td>NEGATIVE</td>\n",
       "      <td>0.383635</td>\n",
       "      <td>0.998703</td>\n",
       "      <td>_The Wild Life_ has an obvious resemblance to ...</td>\n",
       "      <td>_The Wild Life_ has an obvious resemblance to ...</td>\n",
       "      <td>_The Wild Life_ has an obvious resemblance to ...</td>\n",
       "      <td>_The Wild Life_ has an obvious resemblance to ...</td>\n",
       "      <td>0.041763</td>\n",
       "      <td>1.0</td>\n",
       "      <td>0.034375</td>\n",
       "      <td>172.030831</td>\n",
       "      <td>False\\r</td>\n",
       "      <td>94.364273</td>\n",
       "    </tr>\n",
       "    <tr>\n",
       "      <th>3</th>\n",
       "      <td>46</td>\n",
       "      <td>0</td>\n",
       "      <td>POSITIVE</td>\n",
       "      <td>NEGATIVE</td>\n",
       "      <td>NEGATIVE</td>\n",
       "      <td>0.012707</td>\n",
       "      <td>0.654644</td>\n",
       "      <td>Late night on BBC1, was on my way to bed but c...</td>\n",
       "      <td>Late night on BBC1, was on my way to bed but c...</td>\n",
       "      <td>Late night on BBC1, was on my way to bed but c...</td>\n",
       "      <td>Late night on BBC1, was on my way to bed but c...</td>\n",
       "      <td>0.097391</td>\n",
       "      <td>1.0</td>\n",
       "      <td>0.068750</td>\n",
       "      <td>215.840218</td>\n",
       "      <td>False\\r</td>\n",
       "      <td>78.321251</td>\n",
       "    </tr>\n",
       "    <tr>\n",
       "      <th>4</th>\n",
       "      <td>40</td>\n",
       "      <td>0</td>\n",
       "      <td>NEGATIVE</td>\n",
       "      <td>POSITIVE</td>\n",
       "      <td>POSITIVE</td>\n",
       "      <td>0.000193</td>\n",
       "      <td>0.980735</td>\n",
       "      <td>This film is bad. It's filled with glaring plo...</td>\n",
       "      <td>This film is this . It's filled with  excellen...</td>\n",
       "      <td>This film is bad. It's filled with glaring plo...</td>\n",
       "      <td>This film is this . It's filled with  excellen...</td>\n",
       "      <td>0.191919</td>\n",
       "      <td>1.0</td>\n",
       "      <td>0.068750</td>\n",
       "      <td>46.403196</td>\n",
       "      <td>False\\r</td>\n",
       "      <td>111.334877</td>\n",
       "    </tr>\n",
       "  </tbody>\n",
       "</table>\n",
       "</div>"
      ],
      "text/plain": [
       "   data_idx  sorted_idx orig_pred  new_pred contrast_pred  \\\n",
       "0       473           0  NEGATIVE  POSITIVE      POSITIVE   \n",
       "1       132           0  NEGATIVE  POSITIVE      POSITIVE   \n",
       "2       472           0  POSITIVE  NEGATIVE      NEGATIVE   \n",
       "3        46           0  POSITIVE  NEGATIVE      NEGATIVE   \n",
       "4        40           0  NEGATIVE  POSITIVE      POSITIVE   \n",
       "\n",
       "   orig_contrast_prob_pred  new_contrast_prob_pred  \\\n",
       "0                 0.005314                0.897639   \n",
       "1                 0.000425                0.862147   \n",
       "2                 0.383635                0.998703   \n",
       "3                 0.012707                0.654644   \n",
       "4                 0.000193                0.980735   \n",
       "\n",
       "                                          orig_input  \\\n",
       "0  I've got as much testosterone as the next blok...   \n",
       "1  This should be re-named \"\"\"\"Everybody Loves Se...   \n",
       "2  _The Wild Life_ has an obvious resemblance to ...   \n",
       "3  Late night on BBC1, was on my way to bed but c...   \n",
       "4  This film is bad. It's filled with glaring plo...   \n",
       "\n",
       "                                        edited_input  \\\n",
       "0  I've got as much testosterone as the next blok...   \n",
       "1  This should be re-named \"\"\"\"Everybody Loves Se...   \n",
       "2  _The Wild Life_ has an obvious resemblance to ...   \n",
       "3  Late night on BBC1, was on my way to bed but c...   \n",
       "4  This film is this . It's filled with  excellen...   \n",
       "\n",
       "                                   orig_editable_seg  \\\n",
       "0  I've got as much testosterone as the next blok...   \n",
       "1  This should be re-named \"\"\"\"Everybody Loves Se...   \n",
       "2  _The Wild Life_ has an obvious resemblance to ...   \n",
       "3  Late night on BBC1, was on my way to bed but c...   \n",
       "4  This film is bad. It's filled with glaring plo...   \n",
       "\n",
       "                                 edited_editable_seg  minimality  \\\n",
       "0  I've got as much testosterone as the next blok...    0.160677   \n",
       "1  This should be re-named \"\"\"\"Everybody Loves Se...    0.240575   \n",
       "2  _The Wild Life_ has an obvious resemblance to ...    0.041763   \n",
       "3  Late night on BBC1, was on my way to bed but c...    0.097391   \n",
       "4  This film is this . It's filled with  excellen...    0.191919   \n",
       "\n",
       "   num_edit_rounds  mask_frac    duration  error\\r  perplexity  \n",
       "0              1.0   0.034375  119.766565  False\\r   54.948025  \n",
       "1              1.0   0.068750  186.746424  False\\r  113.194962  \n",
       "2              1.0   0.034375  172.030831  False\\r   94.364273  \n",
       "3              1.0   0.068750  215.840218  False\\r   78.321251  \n",
       "4              1.0   0.068750   46.403196  False\\r  111.334877  "
      ]
     },
     "execution_count": 8,
     "metadata": {},
     "output_type": "execute_result"
    }
   ],
   "source": [
    "edits.head()"
   ]
  },
  {
   "cell_type": "code",
   "execution_count": 16,
   "metadata": {},
   "outputs": [
    {
     "data": {
      "application/vnd.jupyter.widget-view+json": {
       "model_id": "2c109c3ef47549dd87912a3b6f2ea507",
       "version_major": 2,
       "version_minor": 0
      },
      "text/plain": [
       "  0%|          | 0/49 [00:00<?, ?it/s]"
      ]
     },
     "metadata": {},
     "output_type": "display_data"
    },
    {
     "name": "stdout",
     "output_type": "stream",
     "text": [
      "87.66469121590639\n"
     ]
    }
   ],
   "source": [
    "from mmice.ppl import Perplexity\n",
    "\n",
    "ppl = Perplexity(model_id='gpt2', device='gpu')\n",
    "results = ppl._compute(edits['edited_input'].tolist()[:], max_length=1024, batch_size=8)\n",
    "print(results['mean_perplexity'])\n",
    "\n",
    "edits['perplexity'] = results['perplexities']\n",
    "edits.to_csv(SAVE_PATH + \"best_edits.csv\", sep=\"\\t\", lineterminator=\"\\n\", index=False)"
   ]
  },
  {
   "cell_type": "code",
   "execution_count": 9,
   "metadata": {},
   "outputs": [
    {
     "name": "stderr",
     "output_type": "stream",
     "text": [
      "original sequence loss!:   5%|▍         | 19/390 [1:17:19<22:54:44, 222.33s/it]Token indices sequence length is longer than the specified maximum sequence length for this model (1309 > 700). Running this sequence through the model will result in indexing errors\n"
     ]
    }
   ],
   "source": [
    "tqdm.pandas(desc='original sequence loss!')\n",
    "a = edits[\"orig_editable_seg\"].progress_apply(lambda x: eval.score_fluency(x, 2))"
   ]
  },
  {
   "cell_type": "code",
   "execution_count": null,
   "metadata": {},
   "outputs": [],
   "source": [
    "tqdm.pandas(desc='edited sequence loss!')\n",
    "b = edits[\"edited_editable_seg\"].progress_apply(lambda x: eval.score_fluency(x) if isinstance(x, str) else 0)"
   ]
  },
  {
   "cell_type": "code",
   "execution_count": null,
   "metadata": {},
   "outputs": [],
   "source": [
    "edits['fluency'] =  b/a\n",
    "edits.to_csv(SAVE_PATH + \"best_edits.csv\", sep=\"\\t\", lineterminator=\"\\n\")"
   ]
  },
  {
   "cell_type": "code",
   "execution_count": null,
   "metadata": {},
   "outputs": [
    {
     "name": "stdout",
     "output_type": "stream",
     "text": [
      "num_total: \t498\n",
      "num_flipped: \t498\n",
      "flip_rate: \t1.0\n",
      "minimality: \t0.194\n",
      "duration: \t37.402\n"
     ]
    }
   ],
   "source": [
    "#edits = read_edits(SAVE_PATH + \"best_edits.csv\")\n",
    "#edits = get_best_edits(edits)\n",
    "metrics = evaluate_edits(edits)"
   ]
  },
  {
   "cell_type": "code",
   "execution_count": null,
   "metadata": {},
   "outputs": [
    {
     "name": "stdout",
     "output_type": "stream",
     "text": [
      "-----------------------\n",
      "ORIG LABEL: \tPOSITIVE\n",
      "CONTR LABEL: \tNEGATIVE (Orig Pred Prob: 0.0)\n",
      "NEW LABEL: \tNEGATIVE (New Pred Prob: 0.587)\n",
      "\n",
      "MINIMALITY: \t0.226\n",
      "\n"
     ]
    },
    {
     "data": {
      "text/html": [
       "Man this movie is <b>awesome</b> especially the part they show the Italian chick damn shes incredibly hot shes <b>not</b> <b>your</b> <b>average</b> Italian. Mna i would go see that movie over and over just to see that chick. i really <b>enjoyed</b> the movie really hot girl shes steamy <b>sexy</b>. also the actor are really good <b>but</b> the girl is <b>better</b>. I think the actor played a better part in pride and prejudice so i don't think he acted in his highest level but yeah back to the girl i mean shes <b>gorgeous</b> perfect and i could only wish her luck in her future movies yeah also her acting skills in such young age was awesome i was just <b>amazed</b> Wit her performance. what a great actress so yeah i <b>recommend</b> everybody this great movie"
      ],
      "text/plain": [
       "<IPython.core.display.HTML object>"
      ]
     },
     "metadata": {},
     "output_type": "display_data"
    },
    {
     "data": {
      "text/html": [
       "Man this movie is <b>this</b> <b> </b>especially the part they show the Italian chick damn shes incredibly hot shes <b>worst</b> <b>film</b> <b>i</b> <b>have</b> <b> </b>Italian. Mna i would go see that movie over and over just to see that chick. i really <b>ever</b> <b> </b>the movie really hot girl shes steamy <b>time</b><b>,</b> <b>i</b><b>'ve</b> <b>seen</b> <b>a</b> <b>lot</b> <b>of</b> <b>actors</b> <b>and</b> <b>this</b> <b>movie</b> <b>has</b> <b>always</b> <b>gotten</b>. also the actor are really good<b>.</b> <b>the</b> <b>story</b> <b> </b>the girl is <b>bit</b>. I think the actor played a better part in pride and prejudice so i don't think he acted in his highest level but yeah back to the girl i mean shes<b>,</b> <b>it</b> <b> </b>perfect and i could only wish her luck in her future movies yeah also her acting skills in such young age was awesome i was just <b>just</b> <b>ed</b> Wit her performance. what a great actress so yeah i <b>just</b> <b>how</b> <b>badly</b> <b>this</b> <b>film</b> <b>has</b> <b>acted</b><b>.</b> <b>you</b><b>'ll</b> <b>kno</b> everybody this great movie"
      ],
      "text/plain": [
       "<IPython.core.display.HTML object>"
      ]
     },
     "metadata": {},
     "output_type": "display_data"
    }
   ],
   "source": [
    "random_rows = edits.sample(1)\n",
    "display_classif_results(random_rows)\n",
    "# display_race_results(random_rows)"
   ]
  }
 ],
 "metadata": {
  "kernelspec": {
   "display_name": "Python 3",
   "language": "python",
   "name": "python3"
  },
  "language_info": {
   "codemirror_mode": {
    "name": "ipython",
    "version": 3
   },
   "file_extension": ".py",
   "mimetype": "text/x-python",
   "name": "python",
   "nbconvert_exporter": "python",
   "pygments_lexer": "ipython3",
   "version": "3.10.9"
  }
 },
 "nbformat": 4,
 "nbformat_minor": 2
}
